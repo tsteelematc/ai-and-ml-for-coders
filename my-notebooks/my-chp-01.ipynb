{
 "cells": [
  {
   "cell_type": "markdown",
   "metadata": {},
   "source": [
    "## My Book Follow-Along Coding"
   ]
  },
  {
   "cell_type": "markdown",
   "metadata": {},
   "source": [
    "### My \"Setup\"\n",
    "\n",
    "```\n",
    "#\n",
    "# In zsh VS Code terminal as editor window ! ! !\n",
    "#\n",
    "\n",
    "# New folder for my follow-along coding\n",
    "mkdir ai-and-ml-for-coders\n",
    "cd ai <tab>\n",
    "\n",
    "# Setup a virtual python environment\n",
    "python -m venv .\n",
    "\n",
    "./bin/activate\n",
    "# Fail, then some chmod flailing\n",
    "\n",
    "# But...\n",
    "cd bin\n",
    "source activate\n",
    "# Could probably source ./bin/activate, but all unecessary because VS Code ! ! !\n",
    "\n",
    "# To look smart : - O\n",
    "pip list\n",
    "# Barely anything since new venv, but nice to confirm ! ! !\n",
    "\n",
    "# Needed to upgrade pip to properly install tensorflow-cpu\n",
    "python -m pip install --upgrade pip\n",
    "\n",
    "pip install tensorflow-cpu\n",
    "```"
   ]
  },
  {
   "cell_type": "markdown",
   "metadata": {},
   "source": [
    "### VS Code general setup\n",
    "\n",
    "*Note: Book uses PyCharm : - O*\n",
    "\n",
    "* Open Folder\n",
    "* Cmd + Shift + p \"Jupyter...new\"\n",
    "* Confirm using venv for book follow-along code\n",
    "* Start coding ! ! !"
   ]
  },
  {
   "cell_type": "code",
   "execution_count": 1,
   "metadata": {},
   "outputs": [
    {
     "name": "stdout",
     "output_type": "stream",
     "text": [
      "2.13.0\n"
     ]
    }
   ],
   "source": [
    "import tensorflow as tf\n",
    "\n",
    "print(tf.__version__)\n",
    "\n",
    "# VS Code prompted install of ipykernal (???) or something, but nice ! ! !"
   ]
  },
  {
   "cell_type": "markdown",
   "metadata": {},
   "source": [
    "*Hmm, thinking about carrying MacBook Pro in Filson Tablet Brief to Barriques to work on my \"book project\"*\n",
    "\n",
    "**c r a z y ! ! !**"
   ]
  },
  {
   "cell_type": "code",
   "execution_count": null,
   "metadata": {},
   "outputs": [],
   "source": [
    "# pip list"
   ]
  },
  {
   "cell_type": "code",
   "execution_count": null,
   "metadata": {},
   "outputs": [],
   "source": [
    "import tensorflow as tf\n",
    "import numpy as np\n",
    "from tensorflow.keras import Sequential\n",
    "from tensorflow.keras.layers import Dense\n",
    "\n",
    "model = Sequential(\n",
    "    [\n",
    "        Dense(\n",
    "            units=1\n",
    "            , input_shape=[1]\n",
    "        )\n",
    "    ]\n",
    ")\n",
    "\n",
    "model.compile(\n",
    "    optimizer='sgd'\n",
    "    , loss='mean_squared_error'\n",
    ")\n",
    "\n",
    "xs = np.array(\n",
    "    [-1.0, 0.0, 1.0, 2.0, 3.0, 4.0]\n",
    "    , dtype=float\n",
    ")\n",
    "\n",
    "ys = np.array(\n",
    "    [-3.0, -1.0, 1.0, 3.0, 5.0, 7.0]\n",
    "    , dtype=float\n",
    ")\n",
    "\n",
    "model.fit(\n",
    "    xs\n",
    "    , ys\n",
    "    , epochs=500\n",
    "    # , epochs=50\n",
    ")\n",
    "\n",
    "print(\n",
    "    \"The prediction is: \"\n",
    "    , model.predict(\n",
    "        [10.0]\n",
    "    )\n",
    ")"
   ]
  },
  {
   "cell_type": "code",
   "execution_count": null,
   "metadata": {},
   "outputs": [],
   "source": [
    "import tensorflow as tf\n",
    "import numpy as np\n",
    "from tensorflow.keras import Sequential\n",
    "from tensorflow.keras.layers import Dense\n",
    "\n",
    "l0 = Dense(\n",
    "    units=1\n",
    "    , input_shape=[1]\n",
    ")\n",
    "model = Sequential([l0])\n",
    "model.compile(\n",
    "    optimizer='sgd'\n",
    "    , loss='mean_squared_error'\n",
    ")\n",
    "\n",
    "xs = np.array([-1.0, 0.0, 1.0, 2.0, 3.0, 4.0], dtype=float)\n",
    "ys = np.array([-3.0, -1.0, 1.0, 3.0, 5.0, 7.0], dtype=float)\n",
    "\n",
    "model.fit(xs, ys, epochs=500)\n",
    "\n",
    "print(model.predict([10.0]))\n",
    "print(f\"Here is what I learned: {l0.get_weights()}\")\n",
    "# print(\"Here is what I learned: {}\".format(l0.get_weights()))"
   ]
  },
  {
   "cell_type": "markdown",
   "metadata": {},
   "source": [
    "*Or maybe my LaJefa with Bellroy sleeve and MacBook Pro to Barriques, small carry ! ! !*\n",
    "\n",
    "**Why, \"no,\" I didn't just \"test drive\" this, that would be crazy ! ! !**\n",
    "\n",
    "*Hmm, LaJefa (over Notabag) with extra rePETE Sling...*\n",
    "\n",
    "**But I like Notabag (and grams28)! ! !**"
   ]
  }
 ],
 "metadata": {
  "kernelspec": {
   "display_name": "ai-and-ml-for-coders",
   "language": "python",
   "name": "python3"
  },
  "language_info": {
   "codemirror_mode": {
    "name": "ipython",
    "version": 3
   },
   "file_extension": ".py",
   "mimetype": "text/x-python",
   "name": "python",
   "nbconvert_exporter": "python",
   "pygments_lexer": "ipython3",
   "version": "3.11.4"
  },
  "orig_nbformat": 4
 },
 "nbformat": 4,
 "nbformat_minor": 2
}
