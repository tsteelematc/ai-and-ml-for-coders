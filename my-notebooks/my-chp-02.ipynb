{
 "cells": [
  {
   "cell_type": "code",
   "execution_count": null,
   "metadata": {},
   "outputs": [],
   "source": [
    "import tensorflow as tf\n",
    "import numpy as np\n",
    "\n",
    "# Used my Pythonic skills to hack this import to work with \n",
    "# code below : - O\n",
    "# import tensorflow.keras as keras\n",
    "\n",
    "# model = keras.Sequential([\n",
    "#     keras.layers.Flatten(input_shape=(28, 28))\n",
    "#     , keras.layers.Dense(128, activation=tf.nn.relu) # rectified linear unit\n",
    "#     , keras.layers.Dense(10, activation=tf.nn.softmax) # output layer, 10 classes, highest value ~ softmax\n",
    "# ])\n",
    "\n",
    "# model"
   ]
  },
  {
   "cell_type": "code",
   "execution_count": null,
   "metadata": {},
   "outputs": [],
   "source": [
    "import tensorflow as tf\n",
    "data = tf.keras.datasets.fashion_mnist\n",
    "\n",
    "(training_images, training_labels), (test_images, test_labels) = data.load_data()\n",
    "\n",
    "# make all values between 0 and 1, vector division?!, normalizing ! ! !\n",
    "training_images  = training_images / 255.0 \n",
    "test_images = test_images / 255.0\n",
    "\n",
    "model = tf.keras.models.Sequential([\n",
    "            tf.keras.layers.Flatten(input_shape=(28, 28)),\n",
    "            tf.keras.layers.Dense(128, activation=tf.nn.relu),\n",
    "            tf.keras.layers.Dense(10, activation=tf.nn.softmax)\n",
    "        ])\n",
    "\n",
    "# Loss function is an 'art'\n",
    "model.compile(optimizer='adam',\n",
    "              loss='sparse_categorical_crossentropy',\n",
    "              metrics=['accuracy']) # Otherwise just reports loss while training\n",
    "\n",
    "model.fit(training_images, training_labels, epochs=5)\n",
    "\n",
    "# Not in original copy/paste : - (\n",
    "print(\"evaluate() results here...\")\n",
    "model.evaluate(test_images, test_labels)"
   ]
  },
  {
   "cell_type": "code",
   "execution_count": null,
   "metadata": {},
   "outputs": [],
   "source": [
    "classifications = model.predict(test_images)\n",
    "print(classifications[0])\n",
    "print(test_labels[0])"
   ]
  },
  {
   "cell_type": "code",
   "execution_count": 1,
   "metadata": {},
   "outputs": [
    {
     "name": "stdout",
     "output_type": "stream",
     "text": [
      "Downloading data from https://storage.googleapis.com/tensorflow/tf-keras-datasets/train-labels-idx1-ubyte.gz\n",
      "29515/29515 [==============================] - 0s 1us/step\n",
      "Downloading data from https://storage.googleapis.com/tensorflow/tf-keras-datasets/train-images-idx3-ubyte.gz\n",
      "26421880/26421880 [==============================] - 1s 0us/step\n",
      "Downloading data from https://storage.googleapis.com/tensorflow/tf-keras-datasets/t10k-labels-idx1-ubyte.gz\n",
      "5148/5148 [==============================] - 0s 0s/step\n",
      "Downloading data from https://storage.googleapis.com/tensorflow/tf-keras-datasets/t10k-images-idx3-ubyte.gz\n",
      "4422102/4422102 [==============================] - 0s 0us/step\n",
      "Epoch 1/50\n",
      "1875/1875 [==============================] - 11s 6ms/step - loss: 0.4999 - accuracy: 0.8247\n",
      "Epoch 2/50\n",
      "1875/1875 [==============================] - 10s 5ms/step - loss: 0.3722 - accuracy: 0.8659\n",
      "Epoch 3/50\n",
      "1875/1875 [==============================] - 10s 5ms/step - loss: 0.3370 - accuracy: 0.8773\n",
      "Epoch 4/50\n",
      "1875/1875 [==============================] - 9s 5ms/step - loss: 0.3122 - accuracy: 0.8855\n",
      "Epoch 5/50\n",
      "1875/1875 [==============================] - 10s 5ms/step - loss: 0.2926 - accuracy: 0.8927\n",
      "Epoch 6/50\n",
      "1875/1875 [==============================] - 10s 5ms/step - loss: 0.2810 - accuracy: 0.8953\n",
      "Epoch 7/50\n",
      "1875/1875 [==============================] - 8s 5ms/step - loss: 0.2660 - accuracy: 0.9005\n",
      "Epoch 8/50\n",
      "1875/1875 [==============================] - 9s 5ms/step - loss: 0.2548 - accuracy: 0.9051\n",
      "Epoch 9/50\n",
      "1875/1875 [==============================] - 9s 5ms/step - loss: 0.2458 - accuracy: 0.9070\n",
      "Epoch 10/50\n",
      "1875/1875 [==============================] - 9s 5ms/step - loss: 0.2378 - accuracy: 0.9111\n",
      "Epoch 11/50\n",
      "1875/1875 [==============================] - 9s 5ms/step - loss: 0.2302 - accuracy: 0.9149\n",
      "Epoch 12/50\n",
      "1875/1875 [==============================] - 9s 5ms/step - loss: 0.2227 - accuracy: 0.9170\n",
      "Epoch 13/50\n",
      "1875/1875 [==============================] - 9s 5ms/step - loss: 0.2157 - accuracy: 0.9201\n",
      "Epoch 14/50\n",
      "1875/1875 [==============================] - 9s 5ms/step - loss: 0.2088 - accuracy: 0.9213\n",
      "Epoch 15/50\n",
      "1875/1875 [==============================] - 10s 5ms/step - loss: 0.2019 - accuracy: 0.9235\n",
      "Epoch 16/50\n",
      "1875/1875 [==============================] - 10s 5ms/step - loss: 0.1992 - accuracy: 0.9252\n",
      "Epoch 17/50\n",
      "1875/1875 [==============================] - 10s 5ms/step - loss: 0.1938 - accuracy: 0.9273\n",
      "Epoch 18/50\n",
      "1875/1875 [==============================] - 9s 5ms/step - loss: 0.1887 - accuracy: 0.9297\n",
      "Epoch 19/50\n",
      "1875/1875 [==============================] - 10s 5ms/step - loss: 0.1830 - accuracy: 0.9309\n",
      "Epoch 20/50\n",
      "1875/1875 [==============================] - 10s 5ms/step - loss: 0.1776 - accuracy: 0.9329\n",
      "Epoch 21/50\n",
      "1875/1875 [==============================] - 10s 5ms/step - loss: 0.1719 - accuracy: 0.9355\n",
      "Epoch 22/50\n",
      "1875/1875 [==============================] - 9s 5ms/step - loss: 0.1715 - accuracy: 0.9357\n",
      "Epoch 23/50\n",
      "1875/1875 [==============================] - 9s 5ms/step - loss: 0.1647 - accuracy: 0.9388\n",
      "Epoch 24/50\n",
      "1875/1875 [==============================] - 9s 5ms/step - loss: 0.1615 - accuracy: 0.9399\n",
      "Epoch 25/50\n",
      "1875/1875 [==============================] - 9s 5ms/step - loss: 0.1582 - accuracy: 0.9401\n",
      "Epoch 26/50\n",
      "1875/1875 [==============================] - 9s 5ms/step - loss: 0.1536 - accuracy: 0.9427\n",
      "Epoch 27/50\n",
      "1875/1875 [==============================] - 9s 5ms/step - loss: 0.1498 - accuracy: 0.9437\n",
      "Epoch 28/50\n",
      "1875/1875 [==============================] - 9s 5ms/step - loss: 0.1489 - accuracy: 0.9433\n",
      "Epoch 29/50\n",
      "1875/1875 [==============================] - 9s 5ms/step - loss: 0.1445 - accuracy: 0.9452\n",
      "Epoch 30/50\n",
      "1875/1875 [==============================] - 9s 5ms/step - loss: 0.1414 - accuracy: 0.9463\n",
      "Epoch 31/50\n",
      "1875/1875 [==============================] - 9s 5ms/step - loss: 0.1395 - accuracy: 0.9475\n",
      "Epoch 32/50\n",
      "1872/1875 [============================>.] - ETA: 0s - loss: 0.1341 - accuracy: 0.9501\n",
      "Reached 95% accuracy so cancelling training!\n",
      "1875/1875 [==============================] - 9s 5ms/step - loss: 0.1342 - accuracy: 0.9500\n"
     ]
    },
    {
     "data": {
      "text/plain": [
       "<keras.src.callbacks.History at 0x28783c6b2d0>"
      ]
     },
     "execution_count": 1,
     "metadata": {},
     "output_type": "execute_result"
    }
   ],
   "source": [
    "import tensorflow as tf\n",
    "\n",
    "class myCallback(tf.keras.callbacks.Callback):\n",
    "  def on_epoch_end(self, epoch, logs={}):\n",
    "    if(logs.get('accuracy')>0.95):\n",
    "      print(\"\\nReached 95% accuracy so cancelling training!\")\n",
    "      self.model.stop_training = True\n",
    "\n",
    "callbacks = myCallback()\n",
    "mnist = tf.keras.datasets.fashion_mnist\n",
    "\n",
    "(training_images, training_labels), (test_images, test_labels) = mnist.load_data()\n",
    "\n",
    "training_images=training_images/255.0\n",
    "test_images=test_images/255.0\n",
    "\n",
    "model = tf.keras.models.Sequential([\n",
    "        tf.keras.layers.Flatten(),\n",
    "        tf.keras.layers.Dense(128, activation=tf.nn.relu),\n",
    "        tf.keras.layers.Dense(10, activation=tf.nn.softmax)\n",
    "])\n",
    "\n",
    "model.compile(optimizer='adam', \n",
    "               loss='sparse_categorical_crossentropy', \n",
    "               metrics=['accuracy'])\n",
    "\n",
    "model.fit(training_images, training_labels, epochs=50, \n",
    "           callbacks=[callbacks])"
   ]
  },
  {
   "cell_type": "markdown",
   "metadata": {},
   "source": [
    "**Or, why not just Bellroy, MacBook Pro, and Freitag Dexter ! ! !**\n",
    "\n",
    "*My true, one bag ? ? ?*"
   ]
  },
  {
   "cell_type": "code",
   "execution_count": 3,
   "metadata": {},
   "outputs": [
    {
     "name": "stdout",
     "output_type": "stream",
     "text": [
      "Num GPUs Available:  0\n"
     ]
    }
   ],
   "source": [
    "import tensorflow as tf\n",
    "print(\"Num GPUs Available: \", len(tf.config.list_physical_devices('GPU')))"
   ]
  }
 ],
 "metadata": {
  "kernelspec": {
   "display_name": "ai-and-ml-for-coders",
   "language": "python",
   "name": "python3"
  },
  "language_info": {
   "codemirror_mode": {
    "name": "ipython",
    "version": 3
   },
   "file_extension": ".py",
   "mimetype": "text/x-python",
   "name": "python",
   "nbconvert_exporter": "python",
   "pygments_lexer": "ipython3",
   "version": "3.11.4"
  },
  "orig_nbformat": 4
 },
 "nbformat": 4,
 "nbformat_minor": 2
}
